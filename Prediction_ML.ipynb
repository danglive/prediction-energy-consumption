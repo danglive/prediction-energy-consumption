{
  "nbformat": 4,
  "nbformat_minor": 0,
  "metadata": {
    "colab": {
      "name": "Prediction_ML.ipynb",
      "provenance": [],
      "collapsed_sections": [],
      "include_colab_link": true
    },
    "kernelspec": {
      "name": "python3",
      "display_name": "Python 3"
    }
  },
  "cells": [
    {
      "cell_type": "markdown",
      "metadata": {
        "id": "view-in-github",
        "colab_type": "text"
      },
      "source": [
        "<a href=\"https://colab.research.google.com/github/danglive/prediction-energy-consumption/blob/master/Prediction_ML.ipynb\" target=\"_parent\"><img src=\"https://colab.research.google.com/assets/colab-badge.svg\" alt=\"Open In Colab\"/></a>"
      ]
    },
    {
      "cell_type": "code",
      "metadata": {
        "id": "-yx-Uo7Fkt4t",
        "colab_type": "code",
        "colab": {}
      },
      "source": [
        "# import the libraries\n",
        "import pandas as pd"
      ],
      "execution_count": 0,
      "outputs": []
    },
    {
      "cell_type": "code",
      "metadata": {
        "id": "y_JWFNs2-6xT",
        "colab_type": "code",
        "colab": {}
      },
      "source": [
        "# load dataset\n",
        "url = 'https://raw.githubusercontent.com/danglive/prediction-energy-consumption/master/EnergyConsumptionEstimation.csv'\n",
        "dataset = pd.read_csv(url, error_bad_lines=False, parse_dates=True, index_col='timestamp')"
      ],
      "execution_count": 0,
      "outputs": []
    },
    {
      "cell_type": "code",
      "metadata": {
        "id": "nMfF48PVkyC0",
        "colab_type": "code",
        "colab": {
          "base_uri": "https://localhost:8080/",
          "height": 187
        },
        "outputId": "47521d18-deff-4995-b207-c0388629a7be"
      },
      "source": [
        "# Info of dataset\n",
        "dataset.info()"
      ],
      "execution_count": 23,
      "outputs": [
        {
          "output_type": "stream",
          "text": [
            "<class 'pandas.core.frame.DataFrame'>\n",
            "Index: 4407 entries, timestamp to 2018-05-25 12:00:00\n",
            "Data columns (total 5 columns):\n",
            "Delivered_Energy          4407 non-null object\n",
            "Travelled_Distance        4407 non-null object\n",
            "Temperature_Exterieure    4407 non-null object\n",
            "DriverBehaviour           4407 non-null object\n",
            "DriverSex                 4407 non-null object\n",
            "dtypes: object(5)\n",
            "memory usage: 206.6+ KB\n"
          ],
          "name": "stdout"
        }
      ]
    },
    {
      "cell_type": "code",
      "metadata": {
        "id": "6bd5exFLkyp1",
        "colab_type": "code",
        "colab": {
          "base_uri": "https://localhost:8080/",
          "height": 235
        },
        "outputId": "1b9663c1-c3f2-4075-d122-6852ed1c8caa"
      },
      "source": [
        "# Drop line 1 \n",
        "dataset = dataset.iloc[1:]\n",
        "dataset.head(5)"
      ],
      "execution_count": 24,
      "outputs": [
        {
          "output_type": "execute_result",
          "data": {
            "text/html": [
              "<div>\n",
              "<style scoped>\n",
              "    .dataframe tbody tr th:only-of-type {\n",
              "        vertical-align: middle;\n",
              "    }\n",
              "\n",
              "    .dataframe tbody tr th {\n",
              "        vertical-align: top;\n",
              "    }\n",
              "\n",
              "    .dataframe thead th {\n",
              "        text-align: right;\n",
              "    }\n",
              "</style>\n",
              "<table border=\"1\" class=\"dataframe\">\n",
              "  <thead>\n",
              "    <tr style=\"text-align: right;\">\n",
              "      <th></th>\n",
              "      <th>Delivered_Energy</th>\n",
              "      <th>Travelled_Distance</th>\n",
              "      <th>Temperature_Exterieure</th>\n",
              "      <th>DriverBehaviour</th>\n",
              "      <th>DriverSex</th>\n",
              "    </tr>\n",
              "    <tr>\n",
              "      <th>timestamp</th>\n",
              "      <th></th>\n",
              "      <th></th>\n",
              "      <th></th>\n",
              "      <th></th>\n",
              "      <th></th>\n",
              "    </tr>\n",
              "  </thead>\n",
              "  <tbody>\n",
              "    <tr>\n",
              "      <th>2017-11-22 23:00:00</th>\n",
              "      <td>9.05700081620839</td>\n",
              "      <td>8.738133146835025e-06</td>\n",
              "      <td>11.3</td>\n",
              "      <td>0.2171607905520091</td>\n",
              "      <td>female</td>\n",
              "    </tr>\n",
              "    <tr>\n",
              "      <th>2017-11-23 00:00:00</th>\n",
              "      <td>9.05700081620839</td>\n",
              "      <td>0.0</td>\n",
              "      <td>11.2</td>\n",
              "      <td>0.24535736823806864</td>\n",
              "      <td>male</td>\n",
              "    </tr>\n",
              "    <tr>\n",
              "      <th>2017-11-23 01:00:00</th>\n",
              "      <td>9.05700081620839</td>\n",
              "      <td>8.738133146835025e-06</td>\n",
              "      <td>10.8</td>\n",
              "      <td>0.06334444369720382</td>\n",
              "      <td>female</td>\n",
              "    </tr>\n",
              "    <tr>\n",
              "      <th>2017-11-23 02:00:00</th>\n",
              "      <td>9.05700081620839</td>\n",
              "      <td>0.0</td>\n",
              "      <td>11.3</td>\n",
              "      <td>0.9304906366876564</td>\n",
              "      <td>male</td>\n",
              "    </tr>\n",
              "    <tr>\n",
              "      <th>2017-11-23 03:00:00</th>\n",
              "      <td>9.05700081620839</td>\n",
              "      <td>8.738133146835025e-06</td>\n",
              "      <td>11.7</td>\n",
              "      <td>0.032536781573978324</td>\n",
              "      <td>male</td>\n",
              "    </tr>\n",
              "  </tbody>\n",
              "</table>\n",
              "</div>"
            ],
            "text/plain": [
              "                     Delivered_Energy  ... DriverSex\n",
              "timestamp                              ...          \n",
              "2017-11-22 23:00:00  9.05700081620839  ...    female\n",
              "2017-11-23 00:00:00  9.05700081620839  ...      male\n",
              "2017-11-23 01:00:00  9.05700081620839  ...    female\n",
              "2017-11-23 02:00:00  9.05700081620839  ...      male\n",
              "2017-11-23 03:00:00  9.05700081620839  ...      male\n",
              "\n",
              "[5 rows x 5 columns]"
            ]
          },
          "metadata": {
            "tags": []
          },
          "execution_count": 24
        }
      ]
    },
    {
      "cell_type": "code",
      "metadata": {
        "id": "yiLiypRok140",
        "colab_type": "code",
        "colab": {
          "base_uri": "https://localhost:8080/",
          "height": 204
        },
        "outputId": "743af7ee-f088-40c2-d720-1a2eb322068b"
      },
      "source": [
        "# Selecting the feature\n",
        "feature = ['Delivered_Energy','Travelled_Distance','DriverBehaviour','DriverSex']\n",
        "dataset = dataset[feature]\n",
        "dataset.head(4)"
      ],
      "execution_count": 25,
      "outputs": [
        {
          "output_type": "execute_result",
          "data": {
            "text/html": [
              "<div>\n",
              "<style scoped>\n",
              "    .dataframe tbody tr th:only-of-type {\n",
              "        vertical-align: middle;\n",
              "    }\n",
              "\n",
              "    .dataframe tbody tr th {\n",
              "        vertical-align: top;\n",
              "    }\n",
              "\n",
              "    .dataframe thead th {\n",
              "        text-align: right;\n",
              "    }\n",
              "</style>\n",
              "<table border=\"1\" class=\"dataframe\">\n",
              "  <thead>\n",
              "    <tr style=\"text-align: right;\">\n",
              "      <th></th>\n",
              "      <th>Delivered_Energy</th>\n",
              "      <th>Travelled_Distance</th>\n",
              "      <th>DriverBehaviour</th>\n",
              "      <th>DriverSex</th>\n",
              "    </tr>\n",
              "    <tr>\n",
              "      <th>timestamp</th>\n",
              "      <th></th>\n",
              "      <th></th>\n",
              "      <th></th>\n",
              "      <th></th>\n",
              "    </tr>\n",
              "  </thead>\n",
              "  <tbody>\n",
              "    <tr>\n",
              "      <th>2017-11-22 23:00:00</th>\n",
              "      <td>9.05700081620839</td>\n",
              "      <td>8.738133146835025e-06</td>\n",
              "      <td>0.2171607905520091</td>\n",
              "      <td>female</td>\n",
              "    </tr>\n",
              "    <tr>\n",
              "      <th>2017-11-23 00:00:00</th>\n",
              "      <td>9.05700081620839</td>\n",
              "      <td>0.0</td>\n",
              "      <td>0.24535736823806864</td>\n",
              "      <td>male</td>\n",
              "    </tr>\n",
              "    <tr>\n",
              "      <th>2017-11-23 01:00:00</th>\n",
              "      <td>9.05700081620839</td>\n",
              "      <td>8.738133146835025e-06</td>\n",
              "      <td>0.06334444369720382</td>\n",
              "      <td>female</td>\n",
              "    </tr>\n",
              "    <tr>\n",
              "      <th>2017-11-23 02:00:00</th>\n",
              "      <td>9.05700081620839</td>\n",
              "      <td>0.0</td>\n",
              "      <td>0.9304906366876564</td>\n",
              "      <td>male</td>\n",
              "    </tr>\n",
              "  </tbody>\n",
              "</table>\n",
              "</div>"
            ],
            "text/plain": [
              "                     Delivered_Energy  ... DriverSex\n",
              "timestamp                              ...          \n",
              "2017-11-22 23:00:00  9.05700081620839  ...    female\n",
              "2017-11-23 00:00:00  9.05700081620839  ...      male\n",
              "2017-11-23 01:00:00  9.05700081620839  ...    female\n",
              "2017-11-23 02:00:00  9.05700081620839  ...      male\n",
              "\n",
              "[4 rows x 4 columns]"
            ]
          },
          "metadata": {
            "tags": []
          },
          "execution_count": 25
        }
      ]
    },
    {
      "cell_type": "code",
      "metadata": {
        "id": "2-uWUCkg_H4g",
        "colab_type": "code",
        "colab": {}
      },
      "source": [
        "from pandas import concat\n",
        "from sklearn.preprocessing import MinMaxScaler\n",
        "from sklearn.preprocessing import LabelEncoder\n",
        "from sklearn.metrics import mean_squared_error\n",
        "from pandas import concat\n",
        "from math import sqrt\n",
        "from numpy import concatenate\n",
        "from sklearn.metrics import mean_squared_error"
      ],
      "execution_count": 0,
      "outputs": []
    },
    {
      "cell_type": "code",
      "metadata": {
        "id": "XumDnVC2k2oB",
        "colab_type": "code",
        "colab": {}
      },
      "source": [
        "# convert series to supervised learning\n",
        "def series_to_supervised(data, n_in=1, n_out=1, dropnan=True):\n",
        "\tn_vars = 1 if type(data) is list else data.shape[1]\n",
        "\tdf = pd.DataFrame(data)\n",
        "\tcols, names = list(), list()\n",
        "\t# input sequence (t-n, ... t-1)\n",
        "\tfor i in range(n_in, 0, -1):\n",
        "\t\tcols.append(df.shift(i))\n",
        "\t\tnames += [('var%d(t-%d)' % (j+1, i)) for j in range(n_vars)]\n",
        "\t# forecast sequence (t, t+1, ... t+n)\n",
        "\tfor i in range(0, n_out):\n",
        "\t\tcols.append(df.shift(-i))\n",
        "\t\tif i == 0:\n",
        "\t\t\tnames += [('var%d(t)' % (j+1)) for j in range(n_vars)]\n",
        "\t\telse:\n",
        "\t\t\tnames += [('var%d(t+%d)' % (j+1, i)) for j in range(n_vars)]\n",
        "\t# put it all together\n",
        "\tagg = concat(cols, axis=1)\n",
        "\tagg.columns = names\n",
        "\t# drop rows with NaN values\n",
        "\tif dropnan:\n",
        "\t\tagg.dropna(inplace=True)\n",
        "\treturn agg"
      ],
      "execution_count": 0,
      "outputs": []
    },
    {
      "cell_type": "code",
      "metadata": {
        "id": "h9fKlXerk7bm",
        "colab_type": "code",
        "colab": {}
      },
      "source": [
        "values = dataset.values\n",
        "# integer encode direction\n",
        "encoder = LabelEncoder()\n",
        "values[:,3] = encoder.fit_transform(values[:,3])\n",
        "# ensure all data is float\n",
        "values = values.astype('float32')\n",
        "# normalize features\n",
        "scaler = MinMaxScaler(feature_range=(0, 1))\n",
        "scaled = scaler.fit_transform(values)\n",
        "# frame as supervised learning\n",
        "reframed = series_to_supervised(scaled, 1, 1)"
      ],
      "execution_count": 0,
      "outputs": []
    },
    {
      "cell_type": "code",
      "metadata": {
        "id": "TrZy5aTMk-uE",
        "colab_type": "code",
        "colab": {
          "base_uri": "https://localhost:8080/",
          "height": 119
        },
        "outputId": "58640e67-f4fe-4956-cdfd-ef56f5e840b8"
      },
      "source": [
        "# drop columns we don't want to predict\n",
        "reframed.drop(reframed.columns[[5,6,7]], axis=1, inplace=True)\n",
        "print(reframed.head())"
      ],
      "execution_count": 29,
      "outputs": [
        {
          "output_type": "stream",
          "text": [
            "   var1(t-1)     var2(t-1)  var3(t-1)  var4(t-1)   var1(t)\n",
            "1   0.347495  4.382665e-07   0.217037        0.0  0.347495\n",
            "2   0.347495  0.000000e+00   0.245243        1.0  0.347495\n",
            "3   0.347495  4.382665e-07   0.063169        0.0  0.347495\n",
            "4   0.347495  0.000000e+00   0.930607        1.0  0.347495\n",
            "5   0.347495  4.382665e-07   0.032351        1.0  0.347495\n"
          ],
          "name": "stdout"
        }
      ]
    },
    {
      "cell_type": "code",
      "metadata": {
        "id": "tYAqsX31lNe1",
        "colab_type": "code",
        "colab": {
          "base_uri": "https://localhost:8080/",
          "height": 34
        },
        "outputId": "b1b67a2a-c684-457f-ef17-2e267ce9a924"
      },
      "source": [
        "n_sample = reframed.shape[0]\n",
        "n_sample"
      ],
      "execution_count": 30,
      "outputs": [
        {
          "output_type": "execute_result",
          "data": {
            "text/plain": [
              "4405"
            ]
          },
          "metadata": {
            "tags": []
          },
          "execution_count": 30
        }
      ]
    },
    {
      "cell_type": "code",
      "metadata": {
        "id": "FgllaEXUlP4M",
        "colab_type": "code",
        "colab": {
          "base_uri": "https://localhost:8080/",
          "height": 34
        },
        "outputId": "d7120a6d-2a09-4b48-fcac-39ad1ecd8f32"
      },
      "source": [
        "# split into train and test sets\n",
        "values = reframed.values\n",
        "# Using 60% for train and 40% for test\n",
        "n_train_hours = int(n_sample*0.6)\n",
        "train = values[:n_train_hours, :]\n",
        "test = values[n_train_hours:, :]\n",
        "# split into input and outputs\n",
        "train_X, train_y = train[:, :-1], train[:, -1]\n",
        "test_X, test_y = test[:, :-1], test[:, -1]\n",
        "# reshape input to be 3D [samples, timesteps, features]\n",
        "train_X = train_X.reshape((train_X.shape[0], 1, train_X.shape[1]))\n",
        "test_X = test_X.reshape((test_X.shape[0], 1, test_X.shape[1]))\n",
        "print(train_X.shape, train_y.shape, test_X.shape, test_y.shape)"
      ],
      "execution_count": 31,
      "outputs": [
        {
          "output_type": "stream",
          "text": [
            "(2643, 1, 4) (2643,) (1762, 1, 4) (1762,)\n"
          ],
          "name": "stdout"
        }
      ]
    },
    {
      "cell_type": "code",
      "metadata": {
        "id": "_SgxsxFwqKyg",
        "colab_type": "code",
        "colab": {
          "base_uri": "https://localhost:8080/",
          "height": 34
        },
        "outputId": "cae78cdb-7dba-4b7a-b15f-307fb4138175"
      },
      "source": [
        "train_X = train_X.reshape((train_X.shape[0], train_X.shape[2]))\n",
        "test_X = test_X.reshape((test_X.shape[0], test_X.shape[2]))\n",
        "train_X.shape, train_y.shape"
      ],
      "execution_count": 32,
      "outputs": [
        {
          "output_type": "execute_result",
          "data": {
            "text/plain": [
              "((2643, 4), (2643,))"
            ]
          },
          "metadata": {
            "tags": []
          },
          "execution_count": 32
        }
      ]
    },
    {
      "cell_type": "code",
      "metadata": {
        "id": "rRFWSUAPB-fW",
        "colab_type": "code",
        "colab": {}
      },
      "source": [
        "# Scikit-Learn Machine Learning models\n",
        "import numpy as np\n",
        "from sklearn.linear_model import LinearRegression, Lasso\n",
        "from sklearn.neighbors import KNeighborsRegressor\n",
        "from sklearn.svm import SVR\n",
        "from sklearn.ensemble import RandomForestRegressor, AdaBoostRegressor, GradientBoostingRegressor\n",
        "from sklearn.neural_network import MLPRegressor\n",
        "from timeit import default_timer as timer"
      ],
      "execution_count": 0,
      "outputs": []
    },
    {
      "cell_type": "code",
      "metadata": {
        "id": "ZqcPlkJf6i5t",
        "colab_type": "code",
        "colab": {}
      },
      "source": [
        "def rmse(prediction,test_y):\n",
        "  # Calculate the rmse\n",
        "  yhat = np.reshape(prediction, (len(prediction),-1)) \n",
        "  \n",
        "  # invert scaling for forecast\n",
        "  inv_yhat = concatenate((yhat, test_X[:, 1:]), axis=1)\n",
        "  inv_yhat = scaler.inverse_transform(inv_yhat)\n",
        "  inv_yhat = inv_yhat[:,0]\n",
        "  # invert scaling for actual\n",
        "  test_y = test_y.reshape((len(test_y), 1))\n",
        "  inv_y = concatenate((test_y, test_X[:, 1:]), axis=1)\n",
        "  inv_y = scaler.inverse_transform(inv_y)\n",
        "  inv_y = inv_y[:,0]\n",
        "  # calculate RMSE\n",
        "  rmse = sqrt(mean_squared_error(inv_y, inv_yhat))\n",
        "  return rmse, inv_y, inv_yhat"
      ],
      "execution_count": 0,
      "outputs": []
    },
    {
      "cell_type": "code",
      "metadata": {
        "id": "hxvnalmgycWg",
        "colab_type": "code",
        "colab": {}
      },
      "source": [
        "# Timing utilities\n",
        "def implement_model(model, train_X, train_y, test_X, test_y, model_name):\n",
        "         \n",
        "    train_start = timer()\n",
        "    \n",
        "    # Start the timer\n",
        "    train_start = timer()\n",
        "\n",
        "    # Train the model\n",
        "    model.fit(train_X, train_y)\n",
        "\n",
        "    # Calculate training time\n",
        "    train_end = timer()\n",
        "    train_time = train_end - train_start\n",
        "\n",
        "    # Start test timer\n",
        "    test_start = timer()\n",
        "\n",
        "    # Make predictions\n",
        "    predictions = model.predict(test_X)\n",
        "\n",
        "    # Calculate testing time\n",
        "    test_end = timer()\n",
        "    test_time = test_end - test_start\n",
        "\n",
        "    # Calculate the rmse\n",
        "    rmse_model,_,_ = rmse(predictions,test_y)\n",
        "\n",
        "    # Record the results\n",
        "    results = [model_name, train_time, test_time,rmse_model]\n",
        "    \n",
        "    return results"
      ],
      "execution_count": 0,
      "outputs": []
    },
    {
      "cell_type": "code",
      "metadata": {
        "id": "z2RRnj_-2Lvl",
        "colab_type": "code",
        "colab": {}
      },
      "source": [
        "def evaluate_models(train_X, train_y, test_X, test_y):\n",
        "  \n",
        "  # LinearRegression\n",
        "  model = LinearRegression()\n",
        "  LR_results =  implement_model(model, train_X, train_y, test_X, test_y, model_name = 'LinearRegression')\n",
        "\n",
        "  # LinearRegression regulization\n",
        "  model = Lasso(alpha=0.1)\n",
        "  Lasso_results =  implement_model(model, train_X, train_y, test_X, test_y, model_name = 'Lasso')\n",
        "\n",
        "  # knn\n",
        "  model = KNeighborsRegressor()\n",
        "  knn_results = implement_model(model, train_X, train_y, test_X, test_y, model_name = 'knn')\n",
        "\n",
        "  # svm\n",
        "  model = SVR()\n",
        "  svm_results = implement_model(model, train_X, train_y, test_X, test_y, model_name = 'svm')\n",
        "    \n",
        "  # rf\n",
        "  model = RandomForestRegressor(n_estimators = 10, random_state = 42, n_jobs = -1)\n",
        "  rf_results = implement_model(model, train_X, train_y, test_X, test_y, model_name = 'rf')\n",
        "    \n",
        "   \n",
        "  # adaboost\n",
        "  model = AdaBoostRegressor(n_estimators = 10, learning_rate = 0.001, loss = 'exponential')\n",
        "  adaboost_results = implement_model(model,train_X, train_y, test_X, test_y, model_name = 'adaboost')\n",
        "\n",
        "  # Gradient Boots\n",
        "  model = GradientBoostingRegressor(loss='quantile', alpha=0.9, n_estimators=10, max_depth=3, learning_rate=.1)\n",
        "  GradientBoosting_results = implement_model(model,train_X, train_y, test_X, test_y, model_name = 'Gradientboost')\n",
        "\n",
        "  # MLP\n",
        "  model = MLPRegressor(learning_rate='adaptive', max_iter=5000, hidden_layer_sizes=(50, 100, 2))\n",
        "  MLP_results = implement_model(model,train_X, train_y, test_X, test_y, model_name = 'MLP')\n",
        "\n",
        "  # Put the results into a single array (stack the rows)\n",
        "  results = np.vstack((LR_results, Lasso_results, knn_results, svm_results, rf_results, adaboost_results, GradientBoosting_results, MLP_results))\n",
        "  \n",
        "  # Convert the results to a dataframe\n",
        "  results = pd.DataFrame(results, columns = ['model', 'train time', 'test time', 'rmse'])\n",
        "    \n",
        "  # Convert the numeric results to numbers\n",
        "  results.iloc[:, 1:] = results.iloc[:, 1:].astype(np.float32)\n",
        "\n",
        "    \n",
        "  return results"
      ],
      "execution_count": 0,
      "outputs": []
    },
    {
      "cell_type": "code",
      "metadata": {
        "id": "Q5uvl4-a5eON",
        "colab_type": "code",
        "colab": {
          "base_uri": "https://localhost:8080/",
          "height": 351
        },
        "outputId": "461729e1-dda5-4e26-ce22-8f5e295c4dd8"
      },
      "source": [
        "results = evaluate_models(train_X, train_y, test_X, test_y)\n",
        "results"
      ],
      "execution_count": 37,
      "outputs": [
        {
          "output_type": "stream",
          "text": [
            "/usr/local/lib/python3.6/dist-packages/sklearn/svm/base.py:193: FutureWarning: The default value of gamma will change from 'auto' to 'scale' in version 0.22 to account better for unscaled features. Set gamma explicitly to 'auto' or 'scale' to avoid this warning.\n",
            "  \"avoid this warning.\", FutureWarning)\n"
          ],
          "name": "stderr"
        },
        {
          "output_type": "execute_result",
          "data": {
            "text/html": [
              "<div>\n",
              "<style scoped>\n",
              "    .dataframe tbody tr th:only-of-type {\n",
              "        vertical-align: middle;\n",
              "    }\n",
              "\n",
              "    .dataframe tbody tr th {\n",
              "        vertical-align: top;\n",
              "    }\n",
              "\n",
              "    .dataframe thead th {\n",
              "        text-align: right;\n",
              "    }\n",
              "</style>\n",
              "<table border=\"1\" class=\"dataframe\">\n",
              "  <thead>\n",
              "    <tr style=\"text-align: right;\">\n",
              "      <th></th>\n",
              "      <th>model</th>\n",
              "      <th>train time</th>\n",
              "      <th>test time</th>\n",
              "      <th>rmse</th>\n",
              "    </tr>\n",
              "  </thead>\n",
              "  <tbody>\n",
              "    <tr>\n",
              "      <th>0</th>\n",
              "      <td>LinearRegression</td>\n",
              "      <td>0.00178857</td>\n",
              "      <td>0.000306135</td>\n",
              "      <td>2.43199</td>\n",
              "    </tr>\n",
              "    <tr>\n",
              "      <th>1</th>\n",
              "      <td>Lasso</td>\n",
              "      <td>0.00313582</td>\n",
              "      <td>0.000285583</td>\n",
              "      <td>7.49519</td>\n",
              "    </tr>\n",
              "    <tr>\n",
              "      <th>2</th>\n",
              "      <td>knn</td>\n",
              "      <td>0.00352318</td>\n",
              "      <td>0.0222098</td>\n",
              "      <td>2.76406</td>\n",
              "    </tr>\n",
              "    <tr>\n",
              "      <th>3</th>\n",
              "      <td>svm</td>\n",
              "      <td>0.0716872</td>\n",
              "      <td>0.0155396</td>\n",
              "      <td>2.83093</td>\n",
              "    </tr>\n",
              "    <tr>\n",
              "      <th>4</th>\n",
              "      <td>rf</td>\n",
              "      <td>0.106245</td>\n",
              "      <td>0.102451</td>\n",
              "      <td>2.29734</td>\n",
              "    </tr>\n",
              "    <tr>\n",
              "      <th>5</th>\n",
              "      <td>adaboost</td>\n",
              "      <td>0.0330659</td>\n",
              "      <td>0.00156571</td>\n",
              "      <td>2.8232</td>\n",
              "    </tr>\n",
              "    <tr>\n",
              "      <th>6</th>\n",
              "      <td>Gradientboost</td>\n",
              "      <td>0.019761</td>\n",
              "      <td>0.000455438</td>\n",
              "      <td>8.97394</td>\n",
              "    </tr>\n",
              "    <tr>\n",
              "      <th>7</th>\n",
              "      <td>MLP</td>\n",
              "      <td>0.507364</td>\n",
              "      <td>0.00534776</td>\n",
              "      <td>2.30407</td>\n",
              "    </tr>\n",
              "  </tbody>\n",
              "</table>\n",
              "</div>"
            ],
            "text/plain": [
              "              model  train time    test time     rmse\n",
              "0  LinearRegression  0.00178857  0.000306135  2.43199\n",
              "1             Lasso  0.00313582  0.000285583  7.49519\n",
              "2               knn  0.00352318    0.0222098  2.76406\n",
              "3               svm   0.0716872    0.0155396  2.83093\n",
              "4                rf    0.106245     0.102451  2.29734\n",
              "5          adaboost   0.0330659   0.00156571   2.8232\n",
              "6     Gradientboost    0.019761  0.000455438  8.97394\n",
              "7               MLP    0.507364   0.00534776  2.30407"
            ]
          },
          "metadata": {
            "tags": []
          },
          "execution_count": 37
        }
      ]
    },
    {
      "cell_type": "markdown",
      "metadata": {
        "id": "IfA1TVxKS1lb",
        "colab_type": "text"
      },
      "source": [
        "From these results, it appears the random forest significantly outperform the competition."
      ]
    },
    {
      "cell_type": "code",
      "metadata": {
        "id": "FvlK0eb3VJLG",
        "colab_type": "code",
        "colab": {
          "base_uri": "https://localhost:8080/",
          "height": 34
        },
        "outputId": "5fe20caa-c067-4514-90c3-d5aae094dd22"
      },
      "source": [
        "rmse_best = results['rmse'].min()\n",
        "print('The best root mean square error', rmse_best)"
      ],
      "execution_count": 38,
      "outputs": [
        {
          "output_type": "stream",
          "text": [
            "The best root mean square error 2.2973406314849854\n"
          ],
          "name": "stdout"
        }
      ]
    },
    {
      "cell_type": "markdown",
      "metadata": {
        "id": "VumXbKokbo1b",
        "colab_type": "text"
      },
      "source": [
        "**Hyperparameter Tuning the Random Forest**\n",
        "\n",
        "\n"
      ]
    },
    {
      "cell_type": "markdown",
      "metadata": {
        "id": "GwWSCSO_UwG9",
        "colab_type": "text"
      },
      "source": [
        "**Using random search**"
      ]
    },
    {
      "cell_type": "code",
      "metadata": {
        "id": "kh_kGaAtbp4y",
        "colab_type": "code",
        "colab": {
          "base_uri": "https://localhost:8080/",
          "height": 323
        },
        "outputId": "5c39b18a-3743-431b-e970-fd0a777ea964"
      },
      "source": [
        "# To look at the available hyperparameters, creating a random forest and examine the default values.\n",
        "rf = RandomForestRegressor(random_state = 42)\n",
        "from pprint import pprint\n",
        "# Look at parameters used by our current forest\n",
        "print('Parameters currently in use:\\n')\n",
        "pprint(rf.get_params())"
      ],
      "execution_count": 39,
      "outputs": [
        {
          "output_type": "stream",
          "text": [
            "Parameters currently in use:\n",
            "\n",
            "{'bootstrap': True,\n",
            " 'criterion': 'mse',\n",
            " 'max_depth': None,\n",
            " 'max_features': 'auto',\n",
            " 'max_leaf_nodes': None,\n",
            " 'min_impurity_decrease': 0.0,\n",
            " 'min_impurity_split': None,\n",
            " 'min_samples_leaf': 1,\n",
            " 'min_samples_split': 2,\n",
            " 'min_weight_fraction_leaf': 0.0,\n",
            " 'n_estimators': 'warn',\n",
            " 'n_jobs': None,\n",
            " 'oob_score': False,\n",
            " 'random_state': 42,\n",
            " 'verbose': 0,\n",
            " 'warm_start': False}\n"
          ],
          "name": "stdout"
        }
      ]
    },
    {
      "cell_type": "code",
      "metadata": {
        "id": "KfeJ91sPcAQm",
        "colab_type": "code",
        "colab": {
          "base_uri": "https://localhost:8080/",
          "height": 119
        },
        "outputId": "d131d157-4684-4b24-c05b-8f323a649987"
      },
      "source": [
        "from sklearn.model_selection import RandomizedSearchCV\n",
        "# Number of trees in random forest\n",
        "n_estimators = [int(x) for x in np.linspace(start = 100, stop = 1000, num = 10)]\n",
        "# Number of features to consider at every split\n",
        "max_features = ['auto', 'sqrt']\n",
        "# Maximum number of levels in tree\n",
        "max_depth = [int(x) for x in np.linspace(10, 100, num = 10)]\n",
        "max_depth.append(None)\n",
        "# Minimum number of samples required to split a node\n",
        "min_samples_split = [2, 5, 10]\n",
        "# Minimum number of samples required at each leaf node\n",
        "min_samples_leaf = [1, 2, 4]\n",
        "# Method of selecting samples for training each tree\n",
        "bootstrap = [True, False]\n",
        "# Create the random grid\n",
        "random_grid = {'n_estimators': n_estimators,\n",
        "               'max_features': max_features,\n",
        "               'max_depth': max_depth,\n",
        "               'min_samples_split': min_samples_split,\n",
        "               'min_samples_leaf': min_samples_leaf,\n",
        "               'bootstrap': bootstrap}\n",
        "pprint(random_grid)"
      ],
      "execution_count": 40,
      "outputs": [
        {
          "output_type": "stream",
          "text": [
            "{'bootstrap': [True, False],\n",
            " 'max_depth': [10, 20, 30, 40, 50, 60, 70, 80, 90, 100, None],\n",
            " 'max_features': ['auto', 'sqrt'],\n",
            " 'min_samples_leaf': [1, 2, 4],\n",
            " 'min_samples_split': [2, 5, 10],\n",
            " 'n_estimators': [100, 200, 300, 400, 500, 600, 700, 800, 900, 1000]}\n"
          ],
          "name": "stdout"
        }
      ]
    },
    {
      "cell_type": "code",
      "metadata": {
        "id": "thv-Lg3Bbyz1",
        "colab_type": "code",
        "colab": {
          "base_uri": "https://localhost:8080/",
          "height": 561
        },
        "outputId": "faebd3f2-704c-4eaa-c2ca-be50bc620eef"
      },
      "source": [
        "# Use the random grid to search for best hyperparameters\n",
        "# First create the base model to tune\n",
        "rf = RandomForestRegressor()\n",
        "# Random search of parameters, using 5 fold cross validation, \n",
        "# search across 100 different combinations, and use all available cores\n",
        "rf_random = RandomizedSearchCV(estimator = rf, param_distributions = random_grid, n_iter = 100, cv = 5, verbose=2, random_state=42, n_jobs = -1)\n",
        "# Fit the random search model\n",
        "rf_random.fit(train_X, train_y)"
      ],
      "execution_count": 41,
      "outputs": [
        {
          "output_type": "stream",
          "text": [
            "Fitting 5 folds for each of 100 candidates, totalling 500 fits\n"
          ],
          "name": "stdout"
        },
        {
          "output_type": "stream",
          "text": [
            "[Parallel(n_jobs=-1)]: Using backend LokyBackend with 2 concurrent workers.\n",
            "[Parallel(n_jobs=-1)]: Done  37 tasks      | elapsed:   50.8s\n",
            "[Parallel(n_jobs=-1)]: Done 158 tasks      | elapsed:  3.6min\n",
            "[Parallel(n_jobs=-1)]: Done 361 tasks      | elapsed:  8.3min\n",
            "[Parallel(n_jobs=-1)]: Done 500 out of 500 | elapsed: 12.0min finished\n"
          ],
          "name": "stderr"
        },
        {
          "output_type": "execute_result",
          "data": {
            "text/plain": [
              "RandomizedSearchCV(cv=5, error_score='raise-deprecating',\n",
              "                   estimator=RandomForestRegressor(bootstrap=True,\n",
              "                                                   criterion='mse',\n",
              "                                                   max_depth=None,\n",
              "                                                   max_features='auto',\n",
              "                                                   max_leaf_nodes=None,\n",
              "                                                   min_impurity_decrease=0.0,\n",
              "                                                   min_impurity_split=None,\n",
              "                                                   min_samples_leaf=1,\n",
              "                                                   min_samples_split=2,\n",
              "                                                   min_weight_fraction_leaf=0.0,\n",
              "                                                   n_estimators='warn',\n",
              "                                                   n_jobs=None, oob_score=False,\n",
              "                                                   random_sta...\n",
              "                   iid='warn', n_iter=100, n_jobs=-1,\n",
              "                   param_distributions={'bootstrap': [True, False],\n",
              "                                        'max_depth': [10, 20, 30, 40, 50, 60,\n",
              "                                                      70, 80, 90, 100, None],\n",
              "                                        'max_features': ['auto', 'sqrt'],\n",
              "                                        'min_samples_leaf': [1, 2, 4],\n",
              "                                        'min_samples_split': [2, 5, 10],\n",
              "                                        'n_estimators': [100, 200, 300, 400,\n",
              "                                                         500, 600, 700, 800,\n",
              "                                                         900, 1000]},\n",
              "                   pre_dispatch='2*n_jobs', random_state=42, refit=True,\n",
              "                   return_train_score=False, scoring=None, verbose=2)"
            ]
          },
          "metadata": {
            "tags": []
          },
          "execution_count": 41
        }
      ]
    },
    {
      "cell_type": "code",
      "metadata": {
        "id": "szZaWXM5b7g-",
        "colab_type": "code",
        "colab": {
          "base_uri": "https://localhost:8080/",
          "height": 119
        },
        "outputId": "3d558af0-eac4-4bc8-a998-c3f91000a398"
      },
      "source": [
        "rf_random.best_params_"
      ],
      "execution_count": 42,
      "outputs": [
        {
          "output_type": "execute_result",
          "data": {
            "text/plain": [
              "{'bootstrap': True,\n",
              " 'max_depth': 10,\n",
              " 'max_features': 'auto',\n",
              " 'min_samples_leaf': 4,\n",
              " 'min_samples_split': 5,\n",
              " 'n_estimators': 100}"
            ]
          },
          "metadata": {
            "tags": []
          },
          "execution_count": 42
        }
      ]
    },
    {
      "cell_type": "code",
      "metadata": {
        "id": "wQcQ-7ZrrwVI",
        "colab_type": "code",
        "colab": {
          "base_uri": "https://localhost:8080/",
          "height": 34
        },
        "outputId": "70f789f3-2f17-43a1-94a9-50fb876592ae"
      },
      "source": [
        "prediction_best=rf_random.best_estimator_.predict(test_X)\n",
        "random_best, test_random, pred_random = rmse(prediction_best,test_y)\n",
        "random_best"
      ],
      "execution_count": 43,
      "outputs": [
        {
          "output_type": "execute_result",
          "data": {
            "text/plain": [
              "2.2869320622972524"
            ]
          },
          "metadata": {
            "tags": []
          },
          "execution_count": 43
        }
      ]
    },
    {
      "cell_type": "code",
      "metadata": {
        "id": "OUSGsIviULoI",
        "colab_type": "code",
        "colab": {
          "base_uri": "https://localhost:8080/",
          "height": 34
        },
        "outputId": "72675239-09e7-40ed-91b9-5d6eeb3e5757"
      },
      "source": [
        "print('Improvement of {:0.2f}%.'.format( 100 * (rmse_best - random_best) / rmse_best))"
      ],
      "execution_count": 44,
      "outputs": [
        {
          "output_type": "stream",
          "text": [
            "Improvement of 0.45%.\n"
          ],
          "name": "stdout"
        }
      ]
    },
    {
      "cell_type": "markdown",
      "metadata": {
        "id": "5Th16eQUaiA3",
        "colab_type": "text"
      },
      "source": [
        "We achieved an unspectacular improvement in accuracy of 0.14%."
      ]
    },
    {
      "cell_type": "code",
      "metadata": {
        "id": "zebDWvxkJ4f1",
        "colab_type": "code",
        "colab": {}
      },
      "source": [
        "# Define training time and tesing time\n",
        "timestamp = dataset.index\n",
        "timestamp_train = timestamp[:n_train_hours]\n",
        "timestamp_test = timestamp[1+n_train_hours:]\n",
        "# creating a dataframe with the combination of both predictions, and appending the right datetimeindex\n",
        "Random_Pred = pd.DataFrame({'Delivered Energy':  test_random, 'Prediction': pred_random}, index=timestamp_test)"
      ],
      "execution_count": 0,
      "outputs": []
    },
    {
      "cell_type": "code",
      "metadata": {
        "id": "hzk41J-jJ6Hd",
        "colab_type": "code",
        "colab": {
          "base_uri": "https://localhost:8080/",
          "height": 404
        },
        "outputId": "2d543e55-2289-4c2a-fc5d-9a64ca9a6c24"
      },
      "source": [
        "# Visualize\n",
        "import matplotlib.pylab as plt\n",
        "Random_Pred.plot(figsize=(20, 6), color=('b', 'r'))\n",
        "plt.ylabel('Delivered Energy(MWh) ')\n",
        "plt.title('Delivered Energy Prediction via random search')\n",
        "plt.show()"
      ],
      "execution_count": 80,
      "outputs": [
        {
          "output_type": "display_data",
          "data": {
            "image/png": "[encoded data removed]",
            "text/plain": [
              "<Figure size 1440x432 with 1 Axes>"
            ]
          },
          "metadata": {
            "tags": []
          }
        }
      ]
    },
    {
      "cell_type": "code",
      "metadata": {
        "id": "Z_CwFN77aiGJ",
        "colab_type": "code",
        "colab": {
          "base_uri": "https://localhost:8080/",
          "height": 34
        },
        "outputId": "42f48fcb-4075-458e-a94e-76787be9bb58"
      },
      "source": [
        "# Checking the accuracy of model prediction using grid search\n",
        "mape = 100 * np.mean(abs(test_random - pred_random))/np.mean(abs(test_random))\n",
        "accuracy = 100 - mape\n",
        "print('Accuracy = {:0.2f}%.'.format(accuracy))"
      ],
      "execution_count": 75,
      "outputs": [
        {
          "output_type": "stream",
          "text": [
            "Accuracy = 93.97%.\n"
          ],
          "name": "stdout"
        }
      ]
    },
    {
      "cell_type": "markdown",
      "metadata": {
        "id": "yPb1l3hzywhN",
        "colab_type": "text"
      },
      "source": [
        "**Using the Grid  Search**"
      ]
    },
    {
      "cell_type": "code",
      "metadata": {
        "id": "lOyIo1QEZhx3",
        "colab_type": "code",
        "colab": {}
      },
      "source": [
        "from sklearn.model_selection import GridSearchCV\n",
        "# Create the parameter grid based on the results of random search \n",
        "param_grid = {\n",
        "    'bootstrap': [True],\n",
        "    'max_depth': [40, 50, 60],\n",
        "    'max_features': ['auto', 'sqrt'],\n",
        "    'min_samples_leaf': [3, 4, 5],\n",
        "    'min_samples_split': [8, 10, 12],\n",
        "    'n_estimators': [400, 600, 800]\n",
        "}\n",
        "# Create a based model\n",
        "rf = RandomForestRegressor()\n",
        "# Instantiate the grid search model\n",
        "grid_search = GridSearchCV(estimator = rf, param_grid = param_grid, cv = 5, verbose = 2, n_jobs = -1)"
      ],
      "execution_count": 0,
      "outputs": []
    },
    {
      "cell_type": "code",
      "metadata": {
        "id": "6QFYpzIkZk-F",
        "colab_type": "code",
        "colab": {
          "base_uri": "https://localhost:8080/",
          "height": 493
        },
        "outputId": "51e580ee-3686-4b7c-a8a3-1c0e1e5e3b30"
      },
      "source": [
        "# Fit the grid search to the data\n",
        "grid_search.fit(train_X, train_y)"
      ],
      "execution_count": 58,
      "outputs": [
        {
          "output_type": "stream",
          "text": [
            "Fitting 5 folds for each of 162 candidates, totalling 810 fits\n"
          ],
          "name": "stdout"
        },
        {
          "output_type": "stream",
          "text": [
            "[Parallel(n_jobs=-1)]: Using backend LokyBackend with 2 concurrent workers.\n",
            "[Parallel(n_jobs=-1)]: Done  37 tasks      | elapsed:   52.1s\n",
            "[Parallel(n_jobs=-1)]: Done 158 tasks      | elapsed:  3.6min\n",
            "[Parallel(n_jobs=-1)]: Done 361 tasks      | elapsed:  7.9min\n",
            "[Parallel(n_jobs=-1)]: Done 644 tasks      | elapsed: 14.0min\n",
            "[Parallel(n_jobs=-1)]: Done 810 out of 810 | elapsed: 17.2min finished\n"
          ],
          "name": "stderr"
        },
        {
          "output_type": "execute_result",
          "data": {
            "text/plain": [
              "GridSearchCV(cv=5, error_score='raise-deprecating',\n",
              "             estimator=RandomForestRegressor(bootstrap=True, criterion='mse',\n",
              "                                             max_depth=None,\n",
              "                                             max_features='auto',\n",
              "                                             max_leaf_nodes=None,\n",
              "                                             min_impurity_decrease=0.0,\n",
              "                                             min_impurity_split=None,\n",
              "                                             min_samples_leaf=1,\n",
              "                                             min_samples_split=2,\n",
              "                                             min_weight_fraction_leaf=0.0,\n",
              "                                             n_estimators='warn', n_jobs=None,\n",
              "                                             oob_score=False, random_state=None,\n",
              "                                             verbose=0, warm_start=False),\n",
              "             iid='warn', n_jobs=-1,\n",
              "             param_grid={'bootstrap': [True], 'max_depth': [40, 50, 60],\n",
              "                         'max_features': ['auto', 'sqrt'],\n",
              "                         'min_samples_leaf': [3, 4, 5],\n",
              "                         'min_samples_split': [8, 10, 12],\n",
              "                         'n_estimators': [400, 600, 800]},\n",
              "             pre_dispatch='2*n_jobs', refit=True, return_train_score=False,\n",
              "             scoring=None, verbose=2)"
            ]
          },
          "metadata": {
            "tags": []
          },
          "execution_count": 58
        }
      ]
    },
    {
      "cell_type": "code",
      "metadata": {
        "id": "eKsnLtrFiMsp",
        "colab_type": "code",
        "colab": {
          "base_uri": "https://localhost:8080/",
          "height": 119
        },
        "outputId": "db90db4f-d0d8-4134-e17a-f7c7fa96bdaa"
      },
      "source": [
        "grid_search.best_params_"
      ],
      "execution_count": 59,
      "outputs": [
        {
          "output_type": "execute_result",
          "data": {
            "text/plain": [
              "{'bootstrap': True,\n",
              " 'max_depth': 40,\n",
              " 'max_features': 'auto',\n",
              " 'min_samples_leaf': 5,\n",
              " 'min_samples_split': 12,\n",
              " 'n_estimators': 400}"
            ]
          },
          "metadata": {
            "tags": []
          },
          "execution_count": 59
        }
      ]
    },
    {
      "cell_type": "code",
      "metadata": {
        "id": "NXumA4-R6ZQf",
        "colab_type": "code",
        "colab": {
          "base_uri": "https://localhost:8080/",
          "height": 34
        },
        "outputId": "62fd4d6d-defc-4652-81df-fb901a3a525f"
      },
      "source": [
        "best_grid = grid_search.best_estimator_.predict(test_X)\n",
        "grid_best, grid_test, grid_pred = rmse(best_grid,test_y)\n",
        "grid_best"
      ],
      "execution_count": 60,
      "outputs": [
        {
          "output_type": "execute_result",
          "data": {
            "text/plain": [
              "2.295007768303637"
            ]
          },
          "metadata": {
            "tags": []
          },
          "execution_count": 60
        }
      ]
    },
    {
      "cell_type": "code",
      "metadata": {
        "id": "oNddbPJDan1X",
        "colab_type": "code",
        "colab": {
          "base_uri": "https://localhost:8080/",
          "height": 34
        },
        "outputId": "b6f96031-b8f3-4996-d7f8-600c0e165d34"
      },
      "source": [
        "print('Improvement of {:0.2f}%.'.format(100*(rmse_best - grid_best)/rmse_best))"
      ],
      "execution_count": 61,
      "outputs": [
        {
          "output_type": "stream",
          "text": [
            "Improvement of 0.10%.\n"
          ],
          "name": "stdout"
        }
      ]
    },
    {
      "cell_type": "code",
      "metadata": {
        "id": "Jvb3sBTtTzcF",
        "colab_type": "code",
        "colab": {}
      },
      "source": [
        "# creating a dataframe with the combination of both predictions, and appending the right datetimeindex\n",
        "Random_Pred = pd.DataFrame({'Delivered Energy':  grid_test, 'Prediction': grid_pred}, index=timestamp_test)"
      ],
      "execution_count": 0,
      "outputs": []
    },
    {
      "cell_type": "code",
      "metadata": {
        "id": "qJ0pACWsTjpS",
        "colab_type": "code",
        "colab": {
          "base_uri": "https://localhost:8080/",
          "height": 404
        },
        "outputId": "a21f0d25-7d22-40b3-d59e-238260f329a7"
      },
      "source": [
        "# Visualize\n",
        "import matplotlib.pylab as plt\n",
        "Random_Pred.plot(figsize=(20, 6), color=('b', 'm'))\n",
        "plt.ylabel('Delivered Energy(MWh) ')\n",
        "plt.title('Delivered Energy Prediction via grid search')\n",
        "plt.show()"
      ],
      "execution_count": 79,
      "outputs": [
        {
          "output_type": "display_data",
          "data": {
            "image/png": "[encoded data removed]",
            "text/plain": [
              "<Figure size 1440x432 with 1 Axes>"
            ]
          },
          "metadata": {
            "tags": []
          }
        }
      ]
    },
    {
      "cell_type": "code",
      "metadata": {
        "id": "pIze5VJtavEw",
        "colab_type": "code",
        "colab": {
          "base_uri": "https://localhost:8080/",
          "height": 34
        },
        "outputId": "7ba7b717-b9f3-447c-a69d-9752218c06fd"
      },
      "source": [
        "# Checking the accuracy of model prediction using grid search\n",
        "mape = 100 * np.mean(abs(grid_test - grid_pred))/np.mean(abs(grid_test))\n",
        "accuracy = 100 - mape\n",
        "print('Accuracy = {:0.2f}%.'.format(accuracy))"
      ],
      "execution_count": 76,
      "outputs": [
        {
          "output_type": "stream",
          "text": [
            "Accuracy = 93.94%.\n"
          ],
          "name": "stdout"
        }
      ]
    },
    {
      "cell_type": "markdown",
      "metadata": {
        "id": "JFcXeiija4ux",
        "colab_type": "text"
      },
      "source": [
        "**Discussion**\n",
        "\n",
        "+ The random forest model performed well for Delivered energy prediction which is better than other models (SVM, kNN,...)\n",
        "\n",
        "+ Using grid search improved 0.1% accuracy and random search improved 0.14%\n",
        "\n",
        "+ Can improve the better for hyperparameter tuning by using Bayesian optimization\n",
        "\n",
        "+ Try with Deep Learining algorihtme with LSTM"
      ]
    }
  ]
}