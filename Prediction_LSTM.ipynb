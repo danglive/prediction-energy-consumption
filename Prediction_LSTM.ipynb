{
  "nbformat": 4,
  "nbformat_minor": 0,
  "metadata": {
    "colab": {
      "name": "Prediction_LSTM.ipynb",
      "provenance": [],
      "include_colab_link": true
    },
    "kernelspec": {
      "name": "python3",
      "display_name": "Python 3"
    }
  },
  "cells": [
    {
      "cell_type": "markdown",
      "metadata": {
        "id": "view-in-github",
        "colab_type": "text"
      },
      "source": [
        "<a href=\"https://colab.research.google.com/github/danglive/prediction-energy-consumption/blob/master/Prediction_LSTM.ipynb\" target=\"_parent\"><img src=\"https://colab.research.google.com/assets/colab-badge.svg\" alt=\"Open In Colab\"/></a>"
      ]
    },
    {
      "cell_type": "code",
      "metadata": {
        "id": "Ij68PXsvF_vD",
        "colab_type": "code",
        "colab": {}
      },
      "source": [
        "import pandas as pd\n",
        "# load dataset\n",
        "url = 'https://raw.githubusercontent.com/danglive/prediction-energy-consumption/master/EnergyConsumptionEstimation.csv'\n",
        "dataset = pd.read_csv(url, error_bad_lines=False, parse_dates=True, index_col='timestamp')"
      ],
      "execution_count": 0,
      "outputs": []
    },
    {
      "cell_type": "code",
      "metadata": {
        "id": "utfomyMcdIBE",
        "colab_type": "code",
        "colab": {
          "base_uri": "https://localhost:8080/",
          "height": 187
        },
        "outputId": "d0947c4c-3ae5-4b41-ddeb-05808ee5261b"
      },
      "source": [
        "# Info of dataset\n",
        "dataset.info()"
      ],
      "execution_count": 136,
      "outputs": [
        {
          "output_type": "stream",
          "text": [
            "<class 'pandas.core.frame.DataFrame'>\n",
            "Index: 4407 entries, timestamp to 2018-05-25 12:00:00\n",
            "Data columns (total 5 columns):\n",
            "Delivered_Energy          4407 non-null object\n",
            "Travelled_Distance        4407 non-null object\n",
            "Temperature_Exterieure    4407 non-null object\n",
            "DriverBehaviour           4407 non-null object\n",
            "DriverSex                 4407 non-null object\n",
            "dtypes: object(5)\n",
            "memory usage: 206.6+ KB\n"
          ],
          "name": "stdout"
        }
      ]
    },
    {
      "cell_type": "code",
      "metadata": {
        "id": "olDW9LggL6kM",
        "colab_type": "code",
        "colab": {
          "base_uri": "https://localhost:8080/",
          "height": 235
        },
        "outputId": "72a0d756-d2a2-4a1f-afb4-4d5044518a3c"
      },
      "source": [
        "# Drop line 1 \n",
        "dataset = dataset.iloc[1:]\n",
        "dataset.head(5)"
      ],
      "execution_count": 137,
      "outputs": [
        {
          "output_type": "execute_result",
          "data": {
            "text/html": [
              "<div>\n",
              "<style scoped>\n",
              "    .dataframe tbody tr th:only-of-type {\n",
              "        vertical-align: middle;\n",
              "    }\n",
              "\n",
              "    .dataframe tbody tr th {\n",
              "        vertical-align: top;\n",
              "    }\n",
              "\n",
              "    .dataframe thead th {\n",
              "        text-align: right;\n",
              "    }\n",
              "</style>\n",
              "<table border=\"1\" class=\"dataframe\">\n",
              "  <thead>\n",
              "    <tr style=\"text-align: right;\">\n",
              "      <th></th>\n",
              "      <th>Delivered_Energy</th>\n",
              "      <th>Travelled_Distance</th>\n",
              "      <th>Temperature_Exterieure</th>\n",
              "      <th>DriverBehaviour</th>\n",
              "      <th>DriverSex</th>\n",
              "    </tr>\n",
              "    <tr>\n",
              "      <th>timestamp</th>\n",
              "      <th></th>\n",
              "      <th></th>\n",
              "      <th></th>\n",
              "      <th></th>\n",
              "      <th></th>\n",
              "    </tr>\n",
              "  </thead>\n",
              "  <tbody>\n",
              "    <tr>\n",
              "      <th>2017-11-22 23:00:00</th>\n",
              "      <td>9.05700081620839</td>\n",
              "      <td>8.738133146835025e-06</td>\n",
              "      <td>11.3</td>\n",
              "      <td>0.2171607905520091</td>\n",
              "      <td>female</td>\n",
              "    </tr>\n",
              "    <tr>\n",
              "      <th>2017-11-23 00:00:00</th>\n",
              "      <td>9.05700081620839</td>\n",
              "      <td>0.0</td>\n",
              "      <td>11.2</td>\n",
              "      <td>0.24535736823806864</td>\n",
              "      <td>male</td>\n",
              "    </tr>\n",
              "    <tr>\n",
              "      <th>2017-11-23 01:00:00</th>\n",
              "      <td>9.05700081620839</td>\n",
              "      <td>8.738133146835025e-06</td>\n",
              "      <td>10.8</td>\n",
              "      <td>0.06334444369720382</td>\n",
              "      <td>female</td>\n",
              "    </tr>\n",
              "    <tr>\n",
              "      <th>2017-11-23 02:00:00</th>\n",
              "      <td>9.05700081620839</td>\n",
              "      <td>0.0</td>\n",
              "      <td>11.3</td>\n",
              "      <td>0.9304906366876564</td>\n",
              "      <td>male</td>\n",
              "    </tr>\n",
              "    <tr>\n",
              "      <th>2017-11-23 03:00:00</th>\n",
              "      <td>9.05700081620839</td>\n",
              "      <td>8.738133146835025e-06</td>\n",
              "      <td>11.7</td>\n",
              "      <td>0.032536781573978324</td>\n",
              "      <td>male</td>\n",
              "    </tr>\n",
              "  </tbody>\n",
              "</table>\n",
              "</div>"
            ],
            "text/plain": [
              "                     Delivered_Energy  ... DriverSex\n",
              "timestamp                              ...          \n",
              "2017-11-22 23:00:00  9.05700081620839  ...    female\n",
              "2017-11-23 00:00:00  9.05700081620839  ...      male\n",
              "2017-11-23 01:00:00  9.05700081620839  ...    female\n",
              "2017-11-23 02:00:00  9.05700081620839  ...      male\n",
              "2017-11-23 03:00:00  9.05700081620839  ...      male\n",
              "\n",
              "[5 rows x 5 columns]"
            ]
          },
          "metadata": {
            "tags": []
          },
          "execution_count": 137
        }
      ]
    },
    {
      "cell_type": "code",
      "metadata": {
        "id": "V5xDSQPSS92F",
        "colab_type": "code",
        "colab": {
          "base_uri": "https://localhost:8080/",
          "height": 204
        },
        "outputId": "d746c047-d4d1-4a2a-a518-7e6b57c418f5"
      },
      "source": [
        "# Selecting the feature\n",
        "feature = ['Delivered_Energy','Travelled_Distance','DriverBehaviour','DriverSex']\n",
        "dataset = dataset[feature]\n",
        "dataset.head(4)"
      ],
      "execution_count": 138,
      "outputs": [
        {
          "output_type": "execute_result",
          "data": {
            "text/html": [
              "<div>\n",
              "<style scoped>\n",
              "    .dataframe tbody tr th:only-of-type {\n",
              "        vertical-align: middle;\n",
              "    }\n",
              "\n",
              "    .dataframe tbody tr th {\n",
              "        vertical-align: top;\n",
              "    }\n",
              "\n",
              "    .dataframe thead th {\n",
              "        text-align: right;\n",
              "    }\n",
              "</style>\n",
              "<table border=\"1\" class=\"dataframe\">\n",
              "  <thead>\n",
              "    <tr style=\"text-align: right;\">\n",
              "      <th></th>\n",
              "      <th>Delivered_Energy</th>\n",
              "      <th>Travelled_Distance</th>\n",
              "      <th>DriverBehaviour</th>\n",
              "      <th>DriverSex</th>\n",
              "    </tr>\n",
              "    <tr>\n",
              "      <th>timestamp</th>\n",
              "      <th></th>\n",
              "      <th></th>\n",
              "      <th></th>\n",
              "      <th></th>\n",
              "    </tr>\n",
              "  </thead>\n",
              "  <tbody>\n",
              "    <tr>\n",
              "      <th>2017-11-22 23:00:00</th>\n",
              "      <td>9.05700081620839</td>\n",
              "      <td>8.738133146835025e-06</td>\n",
              "      <td>0.2171607905520091</td>\n",
              "      <td>female</td>\n",
              "    </tr>\n",
              "    <tr>\n",
              "      <th>2017-11-23 00:00:00</th>\n",
              "      <td>9.05700081620839</td>\n",
              "      <td>0.0</td>\n",
              "      <td>0.24535736823806864</td>\n",
              "      <td>male</td>\n",
              "    </tr>\n",
              "    <tr>\n",
              "      <th>2017-11-23 01:00:00</th>\n",
              "      <td>9.05700081620839</td>\n",
              "      <td>8.738133146835025e-06</td>\n",
              "      <td>0.06334444369720382</td>\n",
              "      <td>female</td>\n",
              "    </tr>\n",
              "    <tr>\n",
              "      <th>2017-11-23 02:00:00</th>\n",
              "      <td>9.05700081620839</td>\n",
              "      <td>0.0</td>\n",
              "      <td>0.9304906366876564</td>\n",
              "      <td>male</td>\n",
              "    </tr>\n",
              "  </tbody>\n",
              "</table>\n",
              "</div>"
            ],
            "text/plain": [
              "                     Delivered_Energy  ... DriverSex\n",
              "timestamp                              ...          \n",
              "2017-11-22 23:00:00  9.05700081620839  ...    female\n",
              "2017-11-23 00:00:00  9.05700081620839  ...      male\n",
              "2017-11-23 01:00:00  9.05700081620839  ...    female\n",
              "2017-11-23 02:00:00  9.05700081620839  ...      male\n",
              "\n",
              "[4 rows x 4 columns]"
            ]
          },
          "metadata": {
            "tags": []
          },
          "execution_count": 138
        }
      ]
    },
    {
      "cell_type": "code",
      "metadata": {
        "id": "WYtNgskheBfG",
        "colab_type": "code",
        "colab": {}
      },
      "source": [
        "# Import the libraries\n",
        "from matplotlib import pyplot as plt\n",
        "from pandas import concat\n",
        "from sklearn.preprocessing import MinMaxScaler\n",
        "from sklearn.preprocessing import LabelEncoder\n",
        "from sklearn.metrics import mean_squared_error\n",
        "from pandas import concat\n",
        "from keras.layers import LSTM\n",
        "from keras.models import Sequential\n",
        "from keras.layers import Dense, Embedding\n",
        "from math import sqrt\n",
        "from numpy import concatenate\n",
        "from sklearn.metrics import mean_squared_error"
      ],
      "execution_count": 0,
      "outputs": []
    },
    {
      "cell_type": "code",
      "metadata": {
        "id": "IhKtNcLSLguT",
        "colab_type": "code",
        "colab": {}
      },
      "source": [
        "# convert series to supervised learning\n",
        "def series_to_supervised(data, n_in=1, n_out=1, dropnan=True):\n",
        "\tn_vars = 1 if type(data) is list else data.shape[1]\n",
        "\tdf = pd.DataFrame(data)\n",
        "\tcols, names = list(), list()\n",
        "\t# input sequence (t-n, ... t-1)\n",
        "\tfor i in range(n_in, 0, -1):\n",
        "\t\tcols.append(df.shift(i))\n",
        "\t\tnames += [('var%d(t-%d)' % (j+1, i)) for j in range(n_vars)]\n",
        "\t# forecast sequence (t, t+1, ... t+n)\n",
        "\tfor i in range(0, n_out):\n",
        "\t\tcols.append(df.shift(-i))\n",
        "\t\tif i == 0:\n",
        "\t\t\tnames += [('var%d(t)' % (j+1)) for j in range(n_vars)]\n",
        "\t\telse:\n",
        "\t\t\tnames += [('var%d(t+%d)' % (j+1, i)) for j in range(n_vars)]\n",
        "\t# put it all together\n",
        "\tagg = concat(cols, axis=1)\n",
        "\tagg.columns = names\n",
        "\t# drop rows with NaN values\n",
        "\tif dropnan:\n",
        "\t\tagg.dropna(inplace=True)\n",
        "\treturn agg"
      ],
      "execution_count": 0,
      "outputs": []
    },
    {
      "cell_type": "code",
      "metadata": {
        "id": "LHe1FHAdLhmD",
        "colab_type": "code",
        "colab": {}
      },
      "source": [
        "values = dataset.values\n",
        "# integer encode direction\n",
        "encoder = LabelEncoder()\n",
        "values[:,3] = encoder.fit_transform(values[:,3])\n",
        "# ensure all data is float\n",
        "values = values.astype('float32')\n",
        "# normalize features\n",
        "scaler = MinMaxScaler(feature_range=(0, 1))\n",
        "scaled = scaler.fit_transform(values)\n",
        "# frame as supervised learning\n",
        "reframed = series_to_supervised(scaled, 1, 1)"
      ],
      "execution_count": 0,
      "outputs": []
    },
    {
      "cell_type": "code",
      "metadata": {
        "id": "q8c9eySkcKmb",
        "colab_type": "code",
        "colab": {
          "base_uri": "https://localhost:8080/",
          "height": 34
        },
        "outputId": "ef5d7654-6cb5-401d-8329-3da117f80cdc"
      },
      "source": [
        "scaled.shape, reframed.shape"
      ],
      "execution_count": 142,
      "outputs": [
        {
          "output_type": "execute_result",
          "data": {
            "text/plain": [
              "((4406, 4), (4405, 8))"
            ]
          },
          "metadata": {
            "tags": []
          },
          "execution_count": 142
        }
      ]
    },
    {
      "cell_type": "code",
      "metadata": {
        "id": "JzeK-lNqOZRE",
        "colab_type": "code",
        "colab": {
          "base_uri": "https://localhost:8080/",
          "height": 204
        },
        "outputId": "1c9f3ad3-2b53-4db3-f5bf-4db1d0b24ee0"
      },
      "source": [
        "reframed.head(5)"
      ],
      "execution_count": 143,
      "outputs": [
        {
          "output_type": "execute_result",
          "data": {
            "text/html": [
              "<div>\n",
              "<style scoped>\n",
              "    .dataframe tbody tr th:only-of-type {\n",
              "        vertical-align: middle;\n",
              "    }\n",
              "\n",
              "    .dataframe tbody tr th {\n",
              "        vertical-align: top;\n",
              "    }\n",
              "\n",
              "    .dataframe thead th {\n",
              "        text-align: right;\n",
              "    }\n",
              "</style>\n",
              "<table border=\"1\" class=\"dataframe\">\n",
              "  <thead>\n",
              "    <tr style=\"text-align: right;\">\n",
              "      <th></th>\n",
              "      <th>var1(t-1)</th>\n",
              "      <th>var2(t-1)</th>\n",
              "      <th>var3(t-1)</th>\n",
              "      <th>var4(t-1)</th>\n",
              "      <th>var1(t)</th>\n",
              "      <th>var2(t)</th>\n",
              "      <th>var3(t)</th>\n",
              "      <th>var4(t)</th>\n",
              "    </tr>\n",
              "  </thead>\n",
              "  <tbody>\n",
              "    <tr>\n",
              "      <th>1</th>\n",
              "      <td>0.347495</td>\n",
              "      <td>4.382665e-07</td>\n",
              "      <td>0.217037</td>\n",
              "      <td>0.0</td>\n",
              "      <td>0.347495</td>\n",
              "      <td>0.000000e+00</td>\n",
              "      <td>0.245243</td>\n",
              "      <td>1.0</td>\n",
              "    </tr>\n",
              "    <tr>\n",
              "      <th>2</th>\n",
              "      <td>0.347495</td>\n",
              "      <td>0.000000e+00</td>\n",
              "      <td>0.245243</td>\n",
              "      <td>1.0</td>\n",
              "      <td>0.347495</td>\n",
              "      <td>4.382665e-07</td>\n",
              "      <td>0.063169</td>\n",
              "      <td>0.0</td>\n",
              "    </tr>\n",
              "    <tr>\n",
              "      <th>3</th>\n",
              "      <td>0.347495</td>\n",
              "      <td>4.382665e-07</td>\n",
              "      <td>0.063169</td>\n",
              "      <td>0.0</td>\n",
              "      <td>0.347495</td>\n",
              "      <td>0.000000e+00</td>\n",
              "      <td>0.930607</td>\n",
              "      <td>1.0</td>\n",
              "    </tr>\n",
              "    <tr>\n",
              "      <th>4</th>\n",
              "      <td>0.347495</td>\n",
              "      <td>0.000000e+00</td>\n",
              "      <td>0.930607</td>\n",
              "      <td>1.0</td>\n",
              "      <td>0.347495</td>\n",
              "      <td>4.382665e-07</td>\n",
              "      <td>0.032351</td>\n",
              "      <td>1.0</td>\n",
              "    </tr>\n",
              "    <tr>\n",
              "      <th>5</th>\n",
              "      <td>0.347495</td>\n",
              "      <td>4.382665e-07</td>\n",
              "      <td>0.032351</td>\n",
              "      <td>1.0</td>\n",
              "      <td>0.347495</td>\n",
              "      <td>0.000000e+00</td>\n",
              "      <td>0.286251</td>\n",
              "      <td>1.0</td>\n",
              "    </tr>\n",
              "  </tbody>\n",
              "</table>\n",
              "</div>"
            ],
            "text/plain": [
              "   var1(t-1)     var2(t-1)  var3(t-1)  ...       var2(t)   var3(t)  var4(t)\n",
              "1   0.347495  4.382665e-07   0.217037  ...  0.000000e+00  0.245243      1.0\n",
              "2   0.347495  0.000000e+00   0.245243  ...  4.382665e-07  0.063169      0.0\n",
              "3   0.347495  4.382665e-07   0.063169  ...  0.000000e+00  0.930607      1.0\n",
              "4   0.347495  0.000000e+00   0.930607  ...  4.382665e-07  0.032351      1.0\n",
              "5   0.347495  4.382665e-07   0.032351  ...  0.000000e+00  0.286251      1.0\n",
              "\n",
              "[5 rows x 8 columns]"
            ]
          },
          "metadata": {
            "tags": []
          },
          "execution_count": 143
        }
      ]
    },
    {
      "cell_type": "code",
      "metadata": {
        "id": "JxsukyDjNhN0",
        "colab_type": "code",
        "colab": {
          "base_uri": "https://localhost:8080/",
          "height": 119
        },
        "outputId": "3bd7afe3-3eb3-4d3b-c236-969440664e44"
      },
      "source": [
        "# drop columns we don't want to predict\n",
        "reframed.drop(reframed.columns[[5,6,7]], axis=1, inplace=True)\n",
        "print(reframed.head())"
      ],
      "execution_count": 144,
      "outputs": [
        {
          "output_type": "stream",
          "text": [
            "   var1(t-1)     var2(t-1)  var3(t-1)  var4(t-1)   var1(t)\n",
            "1   0.347495  4.382665e-07   0.217037        0.0  0.347495\n",
            "2   0.347495  0.000000e+00   0.245243        1.0  0.347495\n",
            "3   0.347495  4.382665e-07   0.063169        0.0  0.347495\n",
            "4   0.347495  0.000000e+00   0.930607        1.0  0.347495\n",
            "5   0.347495  4.382665e-07   0.032351        1.0  0.347495\n"
          ],
          "name": "stdout"
        }
      ]
    },
    {
      "cell_type": "code",
      "metadata": {
        "id": "u_EUw2t5c_lO",
        "colab_type": "code",
        "colab": {
          "base_uri": "https://localhost:8080/",
          "height": 34
        },
        "outputId": "531411be-ad0f-4da7-856d-9a2c960e91db"
      },
      "source": [
        "n_sample = reframed.shape[0]\n",
        "n_sample"
      ],
      "execution_count": 145,
      "outputs": [
        {
          "output_type": "execute_result",
          "data": {
            "text/plain": [
              "4405"
            ]
          },
          "metadata": {
            "tags": []
          },
          "execution_count": 145
        }
      ]
    },
    {
      "cell_type": "code",
      "metadata": {
        "id": "otuRo12OM0zu",
        "colab_type": "code",
        "colab": {
          "base_uri": "https://localhost:8080/",
          "height": 34
        },
        "outputId": "cc49df29-184e-4825-8e68-42507958de52"
      },
      "source": [
        "# split into train and test sets\n",
        "values = reframed.values\n",
        "# Using 60% for train and 40% for test\n",
        "n_train_hours = int(n_sample*0.6)\n",
        "train = values[:n_train_hours, :]\n",
        "test = values[n_train_hours:, :]\n",
        "# split into input and outputs\n",
        "train_X, train_y = train[:, :-1], train[:, -1]\n",
        "test_X, test_y = test[:, :-1], test[:, -1]\n",
        "# reshape input to be 3D [samples, timesteps, features]\n",
        "train_X = train_X.reshape((train_X.shape[0], 1, train_X.shape[1]))\n",
        "test_X = test_X.reshape((test_X.shape[0], 1, test_X.shape[1]))\n",
        "print(train_X.shape, train_y.shape, test_X.shape, test_y.shape)"
      ],
      "execution_count": 146,
      "outputs": [
        {
          "output_type": "stream",
          "text": [
            "(2643, 1, 4) (2643,) (1762, 1, 4) (1762,)\n"
          ],
          "name": "stdout"
        }
      ]
    },
    {
      "cell_type": "code",
      "metadata": {
        "id": "lsfFVAtFMOeo",
        "colab_type": "code",
        "colab": {
          "base_uri": "https://localhost:8080/",
          "height": 1000
        },
        "outputId": "e0b00057-5d3c-437b-83b8-27352f6a03b6"
      },
      "source": [
        "# design network\n",
        "model = Sequential()\n",
        "model.add(LSTM(100, input_shape=(train_X.shape[1], train_X.shape[2])))\n",
        "model.add(Dense(1))\n",
        "model.compile(loss='mse', optimizer='adam')\n",
        "# fit network\n",
        "history = model.fit(train_X, train_y, epochs=50, batch_size=16, validation_data=(test_X, test_y), verbose=2, shuffle=False)\n",
        "# plot history\n",
        "plt.plot(history.history['loss'], label='train')\n",
        "plt.plot(history.history['val_loss'], label='test')\n",
        "plt.legend()\n",
        "plt.show()"
      ],
      "execution_count": 147,
      "outputs": [
        {
          "output_type": "stream",
          "text": [
            "Train on 2643 samples, validate on 1762 samples\n",
            "Epoch 1/50\n",
            " - 3s - loss: 0.0732 - val_loss: 0.0480\n",
            "Epoch 2/50\n",
            " - 1s - loss: 0.0162 - val_loss: 0.0381\n",
            "Epoch 3/50\n",
            " - 1s - loss: 0.0107 - val_loss: 0.0315\n",
            "Epoch 4/50\n",
            " - 1s - loss: 0.0086 - val_loss: 0.0260\n",
            "Epoch 5/50\n",
            " - 1s - loss: 0.0074 - val_loss: 0.0216\n",
            "Epoch 6/50\n",
            " - 1s - loss: 0.0067 - val_loss: 0.0182\n",
            "Epoch 7/50\n",
            " - 1s - loss: 0.0062 - val_loss: 0.0156\n",
            "Epoch 8/50\n",
            " - 1s - loss: 0.0058 - val_loss: 0.0138\n",
            "Epoch 9/50\n",
            " - 1s - loss: 0.0056 - val_loss: 0.0125\n",
            "Epoch 10/50\n",
            " - 1s - loss: 0.0054 - val_loss: 0.0116\n",
            "Epoch 11/50\n",
            " - 1s - loss: 0.0053 - val_loss: 0.0110\n",
            "Epoch 12/50\n",
            " - 1s - loss: 0.0052 - val_loss: 0.0106\n",
            "Epoch 13/50\n",
            " - 1s - loss: 0.0051 - val_loss: 0.0103\n",
            "Epoch 14/50\n",
            " - 1s - loss: 0.0051 - val_loss: 0.0101\n",
            "Epoch 15/50\n",
            " - 1s - loss: 0.0050 - val_loss: 0.0099\n",
            "Epoch 16/50\n",
            " - 1s - loss: 0.0050 - val_loss: 0.0097\n",
            "Epoch 17/50\n",
            " - 1s - loss: 0.0050 - val_loss: 0.0095\n",
            "Epoch 18/50\n",
            " - 1s - loss: 0.0049 - val_loss: 0.0094\n",
            "Epoch 19/50\n",
            " - 1s - loss: 0.0049 - val_loss: 0.0092\n",
            "Epoch 20/50\n",
            " - 1s - loss: 0.0048 - val_loss: 0.0090\n",
            "Epoch 21/50\n",
            " - 1s - loss: 0.0048 - val_loss: 0.0088\n",
            "Epoch 22/50\n",
            " - 1s - loss: 0.0048 - val_loss: 0.0087\n",
            "Epoch 23/50\n",
            " - 1s - loss: 0.0047 - val_loss: 0.0085\n",
            "Epoch 24/50\n",
            " - 1s - loss: 0.0047 - val_loss: 0.0083\n",
            "Epoch 25/50\n",
            " - 1s - loss: 0.0046 - val_loss: 0.0082\n",
            "Epoch 26/50\n",
            " - 1s - loss: 0.0046 - val_loss: 0.0080\n",
            "Epoch 27/50\n",
            " - 1s - loss: 0.0046 - val_loss: 0.0079\n",
            "Epoch 28/50\n",
            " - 1s - loss: 0.0045 - val_loss: 0.0078\n",
            "Epoch 29/50\n",
            " - 1s - loss: 0.0045 - val_loss: 0.0077\n",
            "Epoch 30/50\n",
            " - 1s - loss: 0.0045 - val_loss: 0.0076\n",
            "Epoch 31/50\n",
            " - 1s - loss: 0.0044 - val_loss: 0.0075\n",
            "Epoch 32/50\n",
            " - 1s - loss: 0.0044 - val_loss: 0.0074\n",
            "Epoch 33/50\n",
            " - 1s - loss: 0.0043 - val_loss: 0.0073\n",
            "Epoch 34/50\n",
            " - 1s - loss: 0.0043 - val_loss: 0.0073\n",
            "Epoch 35/50\n",
            " - 1s - loss: 0.0043 - val_loss: 0.0072\n",
            "Epoch 36/50\n",
            " - 1s - loss: 0.0042 - val_loss: 0.0071\n",
            "Epoch 37/50\n",
            " - 1s - loss: 0.0042 - val_loss: 0.0071\n",
            "Epoch 38/50\n",
            " - 1s - loss: 0.0042 - val_loss: 0.0070\n",
            "Epoch 39/50\n",
            " - 1s - loss: 0.0041 - val_loss: 0.0070\n",
            "Epoch 40/50\n",
            " - 1s - loss: 0.0041 - val_loss: 0.0070\n",
            "Epoch 41/50\n",
            " - 1s - loss: 0.0041 - val_loss: 0.0070\n",
            "Epoch 42/50\n",
            " - 1s - loss: 0.0040 - val_loss: 0.0069\n",
            "Epoch 43/50\n",
            " - 1s - loss: 0.0040 - val_loss: 0.0069\n",
            "Epoch 44/50\n",
            " - 1s - loss: 0.0040 - val_loss: 0.0069\n",
            "Epoch 45/50\n",
            " - 1s - loss: 0.0040 - val_loss: 0.0069\n",
            "Epoch 46/50\n",
            " - 1s - loss: 0.0039 - val_loss: 0.0069\n",
            "Epoch 47/50\n",
            " - 1s - loss: 0.0039 - val_loss: 0.0069\n",
            "Epoch 48/50\n",
            " - 1s - loss: 0.0039 - val_loss: 0.0069\n",
            "Epoch 49/50\n",
            " - 1s - loss: 0.0039 - val_loss: 0.0070\n",
            "Epoch 50/50\n",
            " - 1s - loss: 0.0038 - val_loss: 0.0070\n"
          ],
          "name": "stdout"
        },
        {
          "output_type": "display_data",
          "data": {
            "image/png": "[encoded data removed]",
            "text/plain": [
              "<Figure size 432x288 with 1 Axes>"
            ]
          },
          "metadata": {
            "tags": []
          }
        }
      ]
    },
    {
      "cell_type": "code",
      "metadata": {
        "id": "UA06rbg-srSy",
        "colab_type": "code",
        "colab": {}
      },
      "source": [
        "# make a prediction\n",
        "yhat = model.predict(test_X)\n",
        "test_X = test_X.reshape((test_X.shape[0], test_X.shape[2]))"
      ],
      "execution_count": 0,
      "outputs": []
    },
    {
      "cell_type": "code",
      "metadata": {
        "id": "jS2bUI3_W5rF",
        "colab_type": "code",
        "colab": {
          "base_uri": "https://localhost:8080/",
          "height": 34
        },
        "outputId": "6c5ea808-b29e-4b3f-e75b-bfbc901ad55a"
      },
      "source": [
        "# invert scaling for forecast\n",
        "inv_yhat = concatenate((yhat, test_X[:, 1:]), axis=1)\n",
        "inv_yhat = scaler.inverse_transform(inv_yhat)\n",
        "inv_yhat = inv_yhat[:,0]\n",
        "# invert scaling for actual\n",
        "test_y = test_y.reshape((len(test_y), 1))\n",
        "inv_y = concatenate((test_y, test_X[:, 1:]), axis=1)\n",
        "inv_y = scaler.inverse_transform(inv_y)\n",
        "inv_y = inv_y[:,0]\n",
        "# calculate RMSE\n",
        "rmse = sqrt(mean_squared_error(inv_y, inv_yhat))\n",
        "print('Test RMSE: %.3f' % rmse)"
      ],
      "execution_count": 149,
      "outputs": [
        {
          "output_type": "stream",
          "text": [
            "Test RMSE: 2.176\n"
          ],
          "name": "stdout"
        }
      ]
    },
    {
      "cell_type": "markdown",
      "metadata": {
        "id": "IYm6AhW9gU1X",
        "colab_type": "text"
      },
      "source": [
        "We can see that the model achieves a respectable RMSE of 2.176, which is lower than an RMSE of 2.2869 found with a Random Forest model."
      ]
    },
    {
      "cell_type": "code",
      "metadata": {
        "id": "EOsVqonli4a_",
        "colab_type": "code",
        "colab": {}
      },
      "source": [
        "# Define training time and tesing time\n",
        "timestamp = dataset.index\n",
        "timestamp_train = timestamp[:n_train_hours]\n",
        "timestamp_test = timestamp[1+n_train_hours:]\n",
        "# creating a dataframe with the combination of both predictions, and appending the right datetimeindex\n",
        "Random_Pred = pd.DataFrame({'Delivered Energy':  inv_y, 'Prediction': inv_yhat}, index=timestamp_test)"
      ],
      "execution_count": 0,
      "outputs": []
    },
    {
      "cell_type": "code",
      "metadata": {
        "id": "ZW7JzITxPdgU",
        "colab_type": "code",
        "colab": {
          "base_uri": "https://localhost:8080/",
          "height": 404
        },
        "outputId": "08e953d8-8462-4b1a-9693-b6e45e47ac10"
      },
      "source": [
        "# Visualize\n",
        "import matplotlib.pylab as plt\n",
        "Random_Pred.plot(figsize=(20, 6), color=('b', 'r'))\n",
        "plt.ylabel('Delivered Energy(MWh) ')\n",
        "plt.title('Delivered Energy Prediction via random search')\n",
        "plt.show()"
      ],
      "execution_count": 153,
      "outputs": [
        {
          "output_type": "display_data",
          "data": {
            "image/png": "[encoded data removed]",
            "text/plain": [
              "<Figure size 1440x432 with 1 Axes>"
            ]
          },
          "metadata": {
            "tags": []
          }
        }
      ]
    },
    {
      "cell_type": "code",
      "metadata": {
        "id": "Wsh4DWkadoFQ",
        "colab_type": "code",
        "colab": {
          "base_uri": "https://localhost:8080/",
          "height": 34
        },
        "outputId": "2b5a4103-27e3-4b30-82c7-4e61e3bf9252"
      },
      "source": [
        "# Checking the accuracy of model prediction using grid search\n",
        "import numpy as np\n",
        "mape = 100 * np.mean(abs(inv_y - inv_yhat))/np.mean(abs(inv_y))\n",
        "accuracy = 100 - mape\n",
        "print('Accuracy = {:0.2f}%.'.format(accuracy))"
      ],
      "execution_count": 151,
      "outputs": [
        {
          "output_type": "stream",
          "text": [
            "Accuracy = 94.10%.\n"
          ],
          "name": "stdout"
        }
      ]
    },
    {
      "cell_type": "markdown",
      "metadata": {
        "id": "8pa4-Hboh3vo",
        "colab_type": "text"
      },
      "source": [
        "**Discussion**\n",
        "\n",
        "+ Using LSTM improves the precision a bit more than the Random Forest with hyperparameter tuning in the Delivered Energy prediction.\n",
        "\n",
        "+ Can apply some algorithm for hyperparameter tunning of LSTM model to improve the accuracy.\n",
        "\n"
      ]
    }
  ]
}